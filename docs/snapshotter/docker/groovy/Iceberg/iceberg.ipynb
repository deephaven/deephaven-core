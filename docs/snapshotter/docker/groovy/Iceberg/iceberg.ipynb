{
 "cells": [
  {
   "cell_type": "code",
   "execution_count": null,
   "id": "84fd09a4",
   "metadata": {},
   "outputs": [],
   "source": [
    "%%sql\n",
    "\n",
    "CREATE DATABASE IF NOT EXISTS nyc;"
   ]
  },
  {
   "cell_type": "code",
   "execution_count": null,
   "id": "07bf9dc2",
   "metadata": {},
   "outputs": [],
   "source": [
    "%%sql\n",
    "DROP TABLE IF EXISTS nyc.taxis;"
   ]
  },
  {
   "cell_type": "code",
   "execution_count": null,
   "id": "363f815a",
   "metadata": {},
   "outputs": [],
   "source": [
    "%%sql\n",
    "CREATE TABLE IF NOT EXISTS nyc.taxis (\n",
    "    VendorID              bigint,\n",
    "    tpep_pickup_datetime  timestamp,\n",
    "    tpep_dropoff_datetime timestamp,\n",
    "    passenger_count       double,\n",
    "    trip_distance         double,\n",
    "    RatecodeID            double,\n",
    "    store_and_fwd_flag    string,\n",
    "    PULocationID          bigint,\n",
    "    DOLocationID          bigint,\n",
    "    payment_type          bigint,\n",
    "    fare_amount           double,\n",
    "    extra                 double,\n",
    "    mta_tax               double,\n",
    "    tip_amount            double,\n",
    "    tolls_amount          double,\n",
    "    improvement_surcharge double,\n",
    "    total_amount          double,\n",
    "    congestion_surcharge  double,\n",
    "    airport_fee           double\n",
    ")\n",
    "USING iceberg\n",
    "PARTITIONED BY (days(tpep_pickup_datetime))"
   ]
  },
  {
   "cell_type": "code",
   "execution_count": null,
   "id": "47645b52",
   "metadata": {},
   "outputs": [],
   "source": [
    "%%sql\n",
    "\n",
    "TRUNCATE TABLE nyc.taxis"
   ]
  },
  {
   "cell_type": "code",
   "execution_count": null,
   "id": "9fddb808",
   "metadata": {},
   "outputs": [],
   "source": [
    "from pyspark.sql import SparkSession\n",
    "spark = SparkSession.builder.appName(\"Jupyter\").getOrCreate()\n",
    "\n",
    "df = spark.read.parquet(\"/home/iceberg/data/yellow_tripdata_2022-04.parquet\")\n",
    "df.write.mode(\"append\").saveAsTable(\"nyc.taxis\")"
   ]
  }
 ],
 "metadata": {
  "kernelspec": {
   "display_name": "Python 3 (ipykernel)",
   "language": "python",
   "name": "python3"
  },
  "language_info": {
   "codemirror_mode": {
    "name": "ipython",
    "version": 3
   },
   "file_extension": ".py",
   "mimetype": "text/x-python",
   "name": "python",
   "nbconvert_exporter": "python",
   "pygments_lexer": "ipython3",
   "version": "3.9.18"
  }
 },
 "nbformat": 4,
 "nbformat_minor": 5
}
